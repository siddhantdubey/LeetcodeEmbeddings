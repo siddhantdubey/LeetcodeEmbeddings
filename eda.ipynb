{
 "cells": [
  {
   "cell_type": "code",
   "execution_count": null,
   "metadata": {},
   "outputs": [],
   "source": [
    "import pandas as pd\n",
    "\n",
    "df = pd.read_pickle('embeddings.pkl')"
   ]
  },
  {
   "cell_type": "code",
   "execution_count": null,
   "metadata": {},
   "outputs": [],
   "source": [
    "df.columns"
   ]
  },
  {
   "cell_type": "code",
   "execution_count": null,
   "metadata": {},
   "outputs": [],
   "source": [
    "df['embedding'][0]"
   ]
  },
  {
   "cell_type": "code",
   "execution_count": null,
   "metadata": {},
   "outputs": [],
   "source": [
    "import matplotlib.pyplot as plt\n",
    "import numpy as np\n",
    "from sklearn.cluster import KMeans\n",
    "from tqdm import tqdm\n",
    "\n",
    "X = np.vstack(df['embedding'].values)\n",
    "\n",
    "inertia = []\n",
    "K = range(1, 11)\n",
    "\n",
    "for k in tqdm(K, desc=\"KMeans Clustering\"):\n",
    "    kmeans = KMeans(n_clusters=k, random_state=42)\n",
    "    kmeans.fit(X)\n",
    "    inertia.append(kmeans.inertia_)\n",
    "\n",
    "df['cluster'] = kmeans.labels_\n",
    "plt.figure(figsize=(8, 6))\n",
    "plt.plot(K, inertia, 'bx-')\n",
    "plt.xlabel('Number of clusters')\n",
    "plt.ylabel('Inertia')\n",
    "plt.title('Elbow Method For Optimal k')\n",
    "plt.show()"
   ]
  },
  {
   "cell_type": "code",
   "execution_count": null,
   "metadata": {},
   "outputs": [],
   "source": [
    "optimal_k = 5 \n",
    "kmeans = KMeans(n_clusters=optimal_k, random_state=42)\n",
    "df['cluster'] = kmeans.fit_predict(X)\n",
    "\n",
    "print(df[['embedding', 'cluster']])"
   ]
  },
  {
   "cell_type": "code",
   "execution_count": null,
   "metadata": {},
   "outputs": [],
   "source": [
    "import plotly.express as px\n",
    "import pandas as pd\n",
    "import numpy as np\n",
    "from sklearn.decomposition import PCA\n",
    "\n",
    "pca = PCA(n_components=2)\n",
    "df['pca_one'] = pca.fit_transform(np.vstack(df['embedding'].values))[:, 0]\n",
    "df['pca_two'] = pca.fit_transform(np.vstack(df['embedding'].values))[:, 1]\n",
    "\n",
    "# Create the interactive plot\n",
    "fig = px.scatter(\n",
    "    df, x='pca_one', y='pca_two',\n",
    "    color='cluster',\n",
    "    hover_data={'file name': True, 'pca_one': False, 'pca_two': False}\n",
    ")\n",
    "\n",
    "fig.update_layout(\n",
    "    title='Interactive Clustering Visualization',\n",
    "    xaxis_title='PCA Component 1',\n",
    "    yaxis_title='PCA Component 2',\n",
    "    legend_title='Cluster'\n",
    ")\n",
    "\n",
    "fig.show()"
   ]
  },
  {
   "cell_type": "code",
   "execution_count": null,
   "metadata": {},
   "outputs": [],
   "source": [
    "pca_2 = PCA(n_components=2)\n",
    "pca_2.fit(np.vstack(df['embedding'].values))\n",
    "explained_variance_2 = np.sum(pca_2.explained_variance_ratio_)\n",
    "\n",
    "pca_3 = PCA(n_components=3)\n",
    "pca_3.fit(np.vstack(df['embedding'].values))\n",
    "explained_variance_3 = np.sum(pca_3.explained_variance_ratio_)\n",
    "\n",
    "print(f\"Explained variance with 2 components: {explained_variance_2:.2f}\")\n",
    "print(f\"Explained variance with 3 components: {explained_variance_3:.2f}\")\n",
    "\n",
    "# Visualize the explained variance\n",
    "components = ['2 Components', '3 Components']\n",
    "explained_variance = [explained_variance_2, explained_variance_3]\n",
    "\n",
    "plt.bar(components, explained_variance, color=['blue', 'green'])\n",
    "plt.xlabel('Number of PCA Components')\n",
    "plt.ylabel('Explained Variance Ratio')\n",
    "plt.title('PCA Explained Variance for 2 vs 3 Components')\n",
    "plt.show()\n",
    "\n"
   ]
  },
  {
   "cell_type": "code",
   "execution_count": null,
   "metadata": {},
   "outputs": [],
   "source": [
    "import plotly.express as px\n",
    "from sklearn.decomposition import PCA\n",
    "import numpy as np\n",
    "from sklearn.preprocessing import StandardScaler\n",
    "\n",
    "pca = PCA(n_components=3)\n",
    "pca_result = pca.fit_transform(np.vstack(df['embedding'].values))\n",
    "\n",
    "scaler = StandardScaler()\n",
    "pca_result_scaled = scaler.fit_transform(pca_result)\n",
    "\n",
    "df['pca_one'] = pca_result_scaled[:, 0]\n",
    "df['pca_two'] = pca_result_scaled[:, 1]\n",
    "df['pca_three'] = pca_result_scaled[:, 2]\n",
    "\n",
    "fig = px.scatter_3d(\n",
    "    df, x='pca_one', y='pca_two', z='pca_three',\n",
    "    color='cluster',\n",
    "    hover_data={'file name': True, 'pca_one': False, 'pca_two': False, 'pca_three': False}\n",
    ")\n",
    "\n",
    "fig.update_layout(\n",
    "    title='3D Interactive Clustering Visualization (Scaled)',\n",
    "    scene=dict(\n",
    "        xaxis_title='PCA Component 1',\n",
    "        yaxis_title='PCA Component 2',\n",
    "        zaxis_title='PCA Component 3'\n",
    "    ),\n",
    "    legend_title='Cluster'\n",
    ")\n",
    "\n",
    "fig.show()"
   ]
  },
  {
   "cell_type": "code",
   "execution_count": null,
   "metadata": {},
   "outputs": [],
   "source": []
  }
 ],
 "metadata": {
  "kernelspec": {
   "display_name": "base",
   "language": "python",
   "name": "python3"
  },
  "language_info": {
   "codemirror_mode": {
    "name": "ipython",
    "version": 3
   },
   "file_extension": ".py",
   "mimetype": "text/x-python",
   "name": "python",
   "nbconvert_exporter": "python",
   "pygments_lexer": "ipython3",
   "version": "3.11.8"
  }
 },
 "nbformat": 4,
 "nbformat_minor": 2
}
